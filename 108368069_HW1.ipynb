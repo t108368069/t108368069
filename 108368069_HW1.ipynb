{
 "cells": [
  {
   "cell_type": "code",
   "execution_count": 1,
   "metadata": {},
   "outputs": [
    {
     "name": "stderr",
     "output_type": "stream",
     "text": [
      "Using TensorFlow backend.\n"
     ]
    }
   ],
   "source": [
    "import urllib.request\n",
    "import os\n",
    "import numpy as np\n",
    "import pandas as pd\n",
    "from sklearn import preprocessing\n",
    "\n",
    "from keras.models import Sequential\n",
    "from keras.layers import Dense,Dropout\n",
    "import matplotlib.pyplot as plt"
   ]
  },
  {
   "cell_type": "code",
   "execution_count": 2,
   "metadata": {},
   "outputs": [],
   "source": [
    "train_df = pd.read_csv(\"/home/wang/pywork/machine-learning-realtek-regression/train-v3.csv\")\n",
    "test_df = pd.read_csv(\"/home/wang/pywork/machine-learning-realtek-regression/test-v3.csv\")\n",
    "valid_df = pd.read_csv(\"/home/wang/pywork/machine-learning-realtek-regression/valid-v3.csv\")"
   ]
  },
  {
   "cell_type": "code",
   "execution_count": 3,
   "metadata": {},
   "outputs": [],
   "source": [
    "cols = ['price','sale_yr','sale_month','sale_day','bedrooms','bathrooms','sqft_living','sqft_lot','floors','waterfront',\n",
    "                'view','condition','grade','sqft_above','sqft_basement','yr_built','yr_renovated',\n",
    "                'zipcode','lat','long','sqft_living15','sqft_lot15']\n",
    "#22\n",
    "cols_test = ['id','sale_yr','sale_month','sale_day','bedrooms','bathrooms','sqft_living','sqft_lot','floors','waterfront',\n",
    "                'view','condition','grade','sqft_above','sqft_basement','yr_built','yr_renovated',\n",
    "                'zipcode','lat','long','sqft_living15','sqft_lot15']\n",
    "#22\n",
    "train_df = train_df[cols]\n",
    "valid_df = valid_df[cols]\n",
    "\n",
    "test_df = test_df[cols_test]"
   ]
  },
  {
   "cell_type": "code",
   "execution_count": 4,
   "metadata": {},
   "outputs": [],
   "source": [
    "all_df = pd.concat([train_df,valid_df])"
   ]
  },
  {
   "cell_type": "code",
   "execution_count": 5,
   "metadata": {},
   "outputs": [],
   "source": [
    "train_ndarray = all_df.values\n",
    "train_Features = train_ndarray[:,1:]#21\n",
    "train_Label = train_ndarray[:,0] \n",
    "\n",
    "newtrain_Features = preprocessing.scale(train_Features)"
   ]
  },
  {
   "cell_type": "code",
   "execution_count": 6,
   "metadata": {},
   "outputs": [],
   "source": [
    "test_df2 = test_df.drop(['id'],axis = 1)#21\n",
    "\n",
    "test_ndarray = test_df2.values\n",
    "test_Features = test_ndarray[:,0:]\n",
    "\n",
    "newtest_Features = ((test_Features - train_Features.mean(axis = 0))/train_Features.std(axis=0))"
   ]
  },
  {
   "cell_type": "code",
   "execution_count": 7,
   "metadata": {},
   "outputs": [],
   "source": [
    "model = Sequential()"
   ]
  },
  {
   "cell_type": "code",
   "execution_count": 8,
   "metadata": {},
   "outputs": [],
   "source": [
    "model.add(Dense(units=400,input_dim=21,\n",
    "               kernel_initializer='uniform',\n",
    "               activation='relu'))\n",
    "\n",
    "model.add(Dropout(0.5))\n",
    "\n",
    "model.add(Dense(units=400,\n",
    "               kernel_initializer='uniform',\n",
    "               activation='relu'))\n",
    "\n",
    "model.add(Dropout(0.5))\n",
    "\n",
    "model.add(Dense(units=200,\n",
    "               kernel_initializer='uniform',\n",
    "               activation='relu'))\n",
    "\n",
    "model.add(Dropout(0.5))\n",
    "\n",
    "model.add(Dense(units=50,\n",
    "               kernel_initializer='uniform',\n",
    "               activation='relu'))\n",
    "\n",
    "model.add(Dropout(0.5))\n",
    "\n",
    "model.add(Dense(units=10,\n",
    "               kernel_initializer='uniform',\n",
    "               activation='relu'))\n",
    "\n",
    "model.add(Dropout(0.5))\n",
    "\n",
    "model.add(Dense(units=1,\n",
    "               kernel_initializer='uniform',\n",
    "               ))\n",
    "\n",
    "model.compile(loss='MAE',\n",
    "            optimizer='adam',metrics = ['accuracy'])"
   ]
  },
  {
   "cell_type": "code",
   "execution_count": 9,
   "metadata": {
    "scrolled": true
   },
   "outputs": [
    {
     "name": "stdout",
     "output_type": "stream",
     "text": [
      "Train on 13615 samples, validate on 1513 samples\n",
      "Epoch 1/100\n",
      " - 2s - loss: 290179.7191 - accuracy: 0.0000e+00 - val_loss: 122911.3676 - val_accuracy: 0.0000e+00\n",
      "Epoch 2/100\n",
      " - 2s - loss: 199077.9939 - accuracy: 0.0000e+00 - val_loss: 112844.4883 - val_accuracy: 0.0000e+00\n",
      "Epoch 3/100\n",
      " - 2s - loss: 198601.1262 - accuracy: 0.0000e+00 - val_loss: 126391.5145 - val_accuracy: 0.0000e+00\n",
      "Epoch 4/100\n",
      " - 2s - loss: 198301.7859 - accuracy: 0.0000e+00 - val_loss: 116993.4447 - val_accuracy: 0.0000e+00\n",
      "Epoch 5/100\n",
      " - 2s - loss: 199761.5022 - accuracy: 0.0000e+00 - val_loss: 113113.1792 - val_accuracy: 0.0000e+00\n",
      "Epoch 6/100\n",
      " - 2s - loss: 198120.0210 - accuracy: 7.3448e-05 - val_loss: 108761.0834 - val_accuracy: 0.0000e+00\n",
      "Epoch 7/100\n",
      " - 2s - loss: 196691.6620 - accuracy: 0.0000e+00 - val_loss: 106893.0742 - val_accuracy: 0.0000e+00\n",
      "Epoch 8/100\n",
      " - 2s - loss: 195907.1346 - accuracy: 0.0000e+00 - val_loss: 114091.2541 - val_accuracy: 0.0000e+00\n",
      "Epoch 9/100\n",
      " - 2s - loss: 196658.4455 - accuracy: 0.0000e+00 - val_loss: 115513.9055 - val_accuracy: 0.0000e+00\n",
      "Epoch 10/100\n",
      " - 2s - loss: 194972.0267 - accuracy: 0.0000e+00 - val_loss: 108170.2512 - val_accuracy: 0.0000e+00\n",
      "Epoch 11/100\n",
      " - 2s - loss: 195253.9706 - accuracy: 0.0000e+00 - val_loss: 117350.2092 - val_accuracy: 0.0000e+00\n",
      "Epoch 12/100\n",
      " - 2s - loss: 194570.5251 - accuracy: 0.0000e+00 - val_loss: 109599.5223 - val_accuracy: 0.0000e+00\n",
      "Epoch 13/100\n",
      " - 2s - loss: 197404.8878 - accuracy: 0.0000e+00 - val_loss: 112207.7978 - val_accuracy: 0.0000e+00\n",
      "Epoch 14/100\n",
      " - 2s - loss: 196169.2760 - accuracy: 0.0000e+00 - val_loss: 113650.5492 - val_accuracy: 0.0000e+00\n",
      "Epoch 15/100\n",
      " - 2s - loss: 192653.6232 - accuracy: 0.0000e+00 - val_loss: 112442.1982 - val_accuracy: 0.0000e+00\n",
      "Epoch 16/100\n",
      " - 2s - loss: 196463.7543 - accuracy: 0.0000e+00 - val_loss: 115366.3418 - val_accuracy: 0.0000e+00\n",
      "Epoch 17/100\n",
      " - 2s - loss: 194498.6400 - accuracy: 0.0000e+00 - val_loss: 113617.0052 - val_accuracy: 0.0000e+00\n",
      "Epoch 18/100\n",
      " - 2s - loss: 193691.9369 - accuracy: 0.0000e+00 - val_loss: 113257.4189 - val_accuracy: 0.0000e+00\n",
      "Epoch 19/100\n",
      " - 2s - loss: 196433.6966 - accuracy: 0.0000e+00 - val_loss: 109475.3335 - val_accuracy: 0.0000e+00\n",
      "Epoch 20/100\n",
      " - 2s - loss: 194788.8529 - accuracy: 0.0000e+00 - val_loss: 117218.3208 - val_accuracy: 0.0000e+00\n",
      "Epoch 21/100\n",
      " - 2s - loss: 195564.8516 - accuracy: 0.0000e+00 - val_loss: 108394.8089 - val_accuracy: 0.0000e+00\n",
      "Epoch 22/100\n",
      " - 2s - loss: 195253.7452 - accuracy: 0.0000e+00 - val_loss: 109075.9744 - val_accuracy: 0.0000e+00\n",
      "Epoch 23/100\n",
      " - 2s - loss: 195491.5573 - accuracy: 0.0000e+00 - val_loss: 117442.2329 - val_accuracy: 0.0000e+00\n",
      "Epoch 24/100\n",
      " - 2s - loss: 193742.5360 - accuracy: 0.0000e+00 - val_loss: 103433.9239 - val_accuracy: 0.0000e+00\n",
      "Epoch 25/100\n",
      " - 2s - loss: 193661.4042 - accuracy: 0.0000e+00 - val_loss: 108388.5813 - val_accuracy: 0.0000e+00\n",
      "Epoch 26/100\n",
      " - 2s - loss: 191973.5480 - accuracy: 7.3448e-05 - val_loss: 116346.9883 - val_accuracy: 0.0000e+00\n",
      "Epoch 27/100\n",
      " - 2s - loss: 193516.8305 - accuracy: 0.0000e+00 - val_loss: 101375.0174 - val_accuracy: 0.0000e+00\n",
      "Epoch 28/100\n",
      " - 2s - loss: 195241.9360 - accuracy: 0.0000e+00 - val_loss: 105296.8304 - val_accuracy: 0.0000e+00\n",
      "Epoch 29/100\n",
      " - 2s - loss: 195153.4513 - accuracy: 0.0000e+00 - val_loss: 116950.1791 - val_accuracy: 0.0000e+00\n",
      "Epoch 30/100\n",
      " - 2s - loss: 192056.7557 - accuracy: 0.0000e+00 - val_loss: 110269.3513 - val_accuracy: 0.0000e+00\n",
      "Epoch 31/100\n",
      " - 2s - loss: 196504.3852 - accuracy: 0.0000e+00 - val_loss: 108695.4865 - val_accuracy: 0.0000e+00\n",
      "Epoch 32/100\n",
      " - 2s - loss: 195187.3655 - accuracy: 0.0000e+00 - val_loss: 111410.7497 - val_accuracy: 0.0000e+00\n",
      "Epoch 33/100\n",
      " - 2s - loss: 192764.5884 - accuracy: 0.0000e+00 - val_loss: 108327.7923 - val_accuracy: 0.0000e+00\n",
      "Epoch 34/100\n",
      " - 2s - loss: 192641.4246 - accuracy: 0.0000e+00 - val_loss: 103144.8571 - val_accuracy: 0.0000e+00\n",
      "Epoch 35/100\n",
      " - 2s - loss: 195271.5317 - accuracy: 0.0000e+00 - val_loss: 114822.7636 - val_accuracy: 0.0000e+00\n",
      "Epoch 36/100\n",
      " - 2s - loss: 194653.6802 - accuracy: 0.0000e+00 - val_loss: 109145.3348 - val_accuracy: 0.0000e+00\n",
      "Epoch 37/100\n",
      " - 2s - loss: 193934.2157 - accuracy: 0.0000e+00 - val_loss: 110033.5173 - val_accuracy: 0.0000e+00\n",
      "Epoch 38/100\n",
      " - 2s - loss: 192437.7093 - accuracy: 0.0000e+00 - val_loss: 104744.5865 - val_accuracy: 0.0000e+00\n",
      "Epoch 39/100\n",
      " - 2s - loss: 194724.9906 - accuracy: 0.0000e+00 - val_loss: 106295.1761 - val_accuracy: 0.0000e+00\n",
      "Epoch 40/100\n",
      " - 2s - loss: 191450.6366 - accuracy: 0.0000e+00 - val_loss: 108776.6609 - val_accuracy: 0.0000e+00\n",
      "Epoch 41/100\n",
      " - 2s - loss: 192837.7854 - accuracy: 0.0000e+00 - val_loss: 111636.6257 - val_accuracy: 0.0000e+00\n",
      "Epoch 42/100\n",
      " - 2s - loss: 191650.6974 - accuracy: 0.0000e+00 - val_loss: 109169.9993 - val_accuracy: 0.0000e+00\n",
      "Epoch 43/100\n",
      " - 2s - loss: 196572.9261 - accuracy: 0.0000e+00 - val_loss: 118969.6823 - val_accuracy: 0.0000e+00\n",
      "Epoch 44/100\n",
      " - 2s - loss: 194473.7479 - accuracy: 0.0000e+00 - val_loss: 112960.1372 - val_accuracy: 0.0000e+00\n",
      "Epoch 45/100\n",
      " - 2s - loss: 192845.9720 - accuracy: 0.0000e+00 - val_loss: 97550.0585 - val_accuracy: 0.0000e+00\n",
      "Epoch 46/100\n",
      " - 2s - loss: 195500.8935 - accuracy: 0.0000e+00 - val_loss: 120098.3266 - val_accuracy: 0.0000e+00\n",
      "Epoch 47/100\n",
      " - 2s - loss: 190719.9527 - accuracy: 0.0000e+00 - val_loss: 100888.7659 - val_accuracy: 0.0000e+00\n",
      "Epoch 48/100\n",
      " - 2s - loss: 192638.7798 - accuracy: 0.0000e+00 - val_loss: 118323.0591 - val_accuracy: 0.0000e+00\n",
      "Epoch 49/100\n",
      " - 2s - loss: 191816.0094 - accuracy: 0.0000e+00 - val_loss: 106309.4948 - val_accuracy: 0.0000e+00\n",
      "Epoch 50/100\n",
      " - 2s - loss: 195992.5991 - accuracy: 0.0000e+00 - val_loss: 125899.8114 - val_accuracy: 0.0000e+00\n",
      "Epoch 51/100\n",
      " - 2s - loss: 192556.2557 - accuracy: 0.0000e+00 - val_loss: 115208.7469 - val_accuracy: 0.0000e+00\n",
      "Epoch 52/100\n",
      " - 2s - loss: 192903.1432 - accuracy: 0.0000e+00 - val_loss: 101211.3197 - val_accuracy: 0.0000e+00\n",
      "Epoch 53/100\n",
      " - 2s - loss: 193569.5296 - accuracy: 0.0000e+00 - val_loss: 114251.0463 - val_accuracy: 0.0000e+00\n",
      "Epoch 54/100\n",
      " - 2s - loss: 192275.0873 - accuracy: 0.0000e+00 - val_loss: 108082.9347 - val_accuracy: 0.0000e+00\n",
      "Epoch 55/100\n",
      " - 2s - loss: 193397.7100 - accuracy: 0.0000e+00 - val_loss: 113575.0391 - val_accuracy: 0.0000e+00\n",
      "Epoch 56/100\n",
      " - 2s - loss: 193707.4169 - accuracy: 0.0000e+00 - val_loss: 113012.5455 - val_accuracy: 0.0000e+00\n",
      "Epoch 57/100\n",
      " - 2s - loss: 194640.3524 - accuracy: 0.0000e+00 - val_loss: 116557.0511 - val_accuracy: 0.0000e+00\n",
      "Epoch 58/100\n",
      " - 2s - loss: 194701.5702 - accuracy: 0.0000e+00 - val_loss: 119704.2639 - val_accuracy: 0.0000e+00\n",
      "Epoch 59/100\n",
      " - 2s - loss: 193237.5707 - accuracy: 0.0000e+00 - val_loss: 101530.3394 - val_accuracy: 0.0000e+00\n",
      "Epoch 60/100\n",
      " - 2s - loss: 191821.2038 - accuracy: 0.0000e+00 - val_loss: 108519.0749 - val_accuracy: 0.0000e+00\n",
      "Epoch 61/100\n",
      " - 2s - loss: 192557.3184 - accuracy: 0.0000e+00 - val_loss: 116291.8345 - val_accuracy: 0.0000e+00\n",
      "Epoch 62/100\n",
      " - 2s - loss: 194649.7431 - accuracy: 0.0000e+00 - val_loss: 105114.2272 - val_accuracy: 0.0000e+00\n",
      "Epoch 63/100\n",
      " - 2s - loss: 192338.9883 - accuracy: 0.0000e+00 - val_loss: 110382.3570 - val_accuracy: 0.0000e+00\n",
      "Epoch 64/100\n",
      " - 2s - loss: 190479.9258 - accuracy: 0.0000e+00 - val_loss: 108428.5005 - val_accuracy: 0.0000e+00\n",
      "Epoch 65/100\n",
      " - 2s - loss: 192181.0017 - accuracy: 0.0000e+00 - val_loss: 103513.1388 - val_accuracy: 0.0000e+00\n",
      "Epoch 66/100\n",
      " - 2s - loss: 194309.2042 - accuracy: 0.0000e+00 - val_loss: 97421.9238 - val_accuracy: 0.0000e+00\n",
      "Epoch 67/100\n",
      " - 2s - loss: 195501.9496 - accuracy: 0.0000e+00 - val_loss: 128101.7535 - val_accuracy: 0.0000e+00\n",
      "Epoch 68/100\n",
      " - 2s - loss: 194954.2474 - accuracy: 0.0000e+00 - val_loss: 107824.7233 - val_accuracy: 0.0000e+00\n",
      "Epoch 69/100\n",
      " - 2s - loss: 195864.1176 - accuracy: 0.0000e+00 - val_loss: 117813.8647 - val_accuracy: 0.0000e+00\n",
      "Epoch 70/100\n",
      " - 2s - loss: 192876.2926 - accuracy: 0.0000e+00 - val_loss: 105393.8745 - val_accuracy: 0.0000e+00\n",
      "Epoch 71/100\n",
      " - 2s - loss: 194352.1211 - accuracy: 0.0000e+00 - val_loss: 110352.0657 - val_accuracy: 0.0000e+00\n",
      "Epoch 72/100\n",
      " - 2s - loss: 190723.5287 - accuracy: 0.0000e+00 - val_loss: 102827.6944 - val_accuracy: 0.0000e+00\n",
      "Epoch 73/100\n",
      " - 2s - loss: 191325.1169 - accuracy: 0.0000e+00 - val_loss: 107869.1440 - val_accuracy: 0.0000e+00\n"
     ]
    },
    {
     "name": "stdout",
     "output_type": "stream",
     "text": [
      "Epoch 74/100\n",
      " - 2s - loss: 192319.9543 - accuracy: 0.0000e+00 - val_loss: 108078.7947 - val_accuracy: 0.0000e+00\n",
      "Epoch 75/100\n",
      " - 2s - loss: 192180.1145 - accuracy: 0.0000e+00 - val_loss: 124680.7811 - val_accuracy: 0.0000e+00\n",
      "Epoch 76/100\n",
      " - 2s - loss: 192146.0440 - accuracy: 0.0000e+00 - val_loss: 111131.0627 - val_accuracy: 0.0000e+00\n",
      "Epoch 77/100\n",
      " - 2s - loss: 191571.4716 - accuracy: 0.0000e+00 - val_loss: 110637.0232 - val_accuracy: 0.0000e+00\n",
      "Epoch 78/100\n",
      " - 2s - loss: 192484.6186 - accuracy: 0.0000e+00 - val_loss: 116558.3007 - val_accuracy: 0.0000e+00\n",
      "Epoch 79/100\n",
      " - 2s - loss: 191322.2768 - accuracy: 0.0000e+00 - val_loss: 100634.0646 - val_accuracy: 0.0000e+00\n",
      "Epoch 80/100\n",
      " - 2s - loss: 192377.2275 - accuracy: 0.0000e+00 - val_loss: 100703.3223 - val_accuracy: 0.0000e+00\n",
      "Epoch 81/100\n",
      " - 2s - loss: 192687.3739 - accuracy: 0.0000e+00 - val_loss: 101638.6363 - val_accuracy: 0.0000e+00\n",
      "Epoch 82/100\n",
      " - 2s - loss: 191811.6307 - accuracy: 0.0000e+00 - val_loss: 110084.0519 - val_accuracy: 0.0000e+00\n",
      "Epoch 83/100\n",
      " - 2s - loss: 190087.1600 - accuracy: 0.0000e+00 - val_loss: 107122.1190 - val_accuracy: 0.0000e+00\n",
      "Epoch 84/100\n",
      " - 2s - loss: 193734.0809 - accuracy: 0.0000e+00 - val_loss: 104846.9282 - val_accuracy: 0.0000e+00\n",
      "Epoch 85/100\n",
      " - 2s - loss: 191024.1880 - accuracy: 0.0000e+00 - val_loss: 118762.1277 - val_accuracy: 0.0000e+00\n",
      "Epoch 86/100\n",
      " - 2s - loss: 192649.8584 - accuracy: 0.0000e+00 - val_loss: 103264.4611 - val_accuracy: 0.0000e+00\n",
      "Epoch 87/100\n",
      " - 2s - loss: 192206.3109 - accuracy: 0.0000e+00 - val_loss: 102830.4672 - val_accuracy: 0.0000e+00\n",
      "Epoch 88/100\n",
      " - 2s - loss: 191201.9883 - accuracy: 0.0000e+00 - val_loss: 113685.0697 - val_accuracy: 0.0000e+00\n",
      "Epoch 89/100\n",
      " - 2s - loss: 190447.1328 - accuracy: 0.0000e+00 - val_loss: 113502.4472 - val_accuracy: 0.0000e+00\n",
      "Epoch 90/100\n",
      " - 2s - loss: 193219.5649 - accuracy: 0.0000e+00 - val_loss: 109065.1596 - val_accuracy: 0.0000e+00\n",
      "Epoch 91/100\n",
      " - 2s - loss: 191148.3536 - accuracy: 0.0000e+00 - val_loss: 117922.0862 - val_accuracy: 0.0000e+00\n",
      "Epoch 92/100\n",
      " - 2s - loss: 192802.4761 - accuracy: 0.0000e+00 - val_loss: 110912.5269 - val_accuracy: 0.0000e+00\n",
      "Epoch 93/100\n",
      " - 2s - loss: 189817.2893 - accuracy: 0.0000e+00 - val_loss: 107020.5814 - val_accuracy: 0.0000e+00\n",
      "Epoch 94/100\n",
      " - 2s - loss: 192286.7688 - accuracy: 0.0000e+00 - val_loss: 105426.6255 - val_accuracy: 0.0000e+00\n",
      "Epoch 95/100\n",
      " - 2s - loss: 190401.7619 - accuracy: 0.0000e+00 - val_loss: 114641.2097 - val_accuracy: 0.0000e+00\n",
      "Epoch 96/100\n",
      " - 2s - loss: 190031.1970 - accuracy: 0.0000e+00 - val_loss: 109049.0024 - val_accuracy: 0.0000e+00\n",
      "Epoch 97/100\n",
      " - 2s - loss: 191586.0188 - accuracy: 0.0000e+00 - val_loss: 105570.5299 - val_accuracy: 0.0000e+00\n",
      "Epoch 98/100\n",
      " - 2s - loss: 189954.1646 - accuracy: 0.0000e+00 - val_loss: 111487.2074 - val_accuracy: 0.0000e+00\n",
      "Epoch 99/100\n",
      " - 2s - loss: 191538.0225 - accuracy: 0.0000e+00 - val_loss: 105062.0036 - val_accuracy: 0.0000e+00\n",
      "Epoch 100/100\n",
      " - 2s - loss: 188878.3403 - accuracy: 0.0000e+00 - val_loss: 102420.3639 - val_accuracy: 0.0000e+00\n"
     ]
    }
   ],
   "source": [
    "train_history = model.fit(x=newtrain_Features,\n",
    "                         y=train_Label,\n",
    "                         validation_split=0.1,\n",
    "                         epochs=100,\n",
    "                         batch_size=30,verbose=2)"
   ]
  },
  {
   "cell_type": "code",
   "execution_count": 10,
   "metadata": {},
   "outputs": [],
   "source": [
    "train_predict = model.predict(newtest_Features)"
   ]
  },
  {
   "cell_type": "code",
   "execution_count": 11,
   "metadata": {},
   "outputs": [
    {
     "data": {
      "text/plain": [
       "array([[454116.97],\n",
       "       [591336.25],\n",
       "       [427270.53],\n",
       "       [393938.72],\n",
       "       [664087.6 ]], dtype=float32)"
      ]
     },
     "execution_count": 11,
     "metadata": {},
     "output_type": "execute_result"
    }
   ],
   "source": [
    "train_predict[:5]"
   ]
  },
  {
   "cell_type": "code",
   "execution_count": 12,
   "metadata": {},
   "outputs": [],
   "source": [
    "outcome = pd.DataFrame(train_predict,columns = ['price'])"
   ]
  },
  {
   "cell_type": "code",
   "execution_count": 13,
   "metadata": {},
   "outputs": [
    {
     "data": {
      "text/html": [
       "<div>\n",
       "<style scoped>\n",
       "    .dataframe tbody tr th:only-of-type {\n",
       "        vertical-align: middle;\n",
       "    }\n",
       "\n",
       "    .dataframe tbody tr th {\n",
       "        vertical-align: top;\n",
       "    }\n",
       "\n",
       "    .dataframe thead th {\n",
       "        text-align: right;\n",
       "    }\n",
       "</style>\n",
       "<table border=\"1\" class=\"dataframe\">\n",
       "  <thead>\n",
       "    <tr style=\"text-align: right;\">\n",
       "      <th></th>\n",
       "      <th>price</th>\n",
       "    </tr>\n",
       "  </thead>\n",
       "  <tbody>\n",
       "    <tr>\n",
       "      <td>0</td>\n",
       "      <td>454116.96875</td>\n",
       "    </tr>\n",
       "    <tr>\n",
       "      <td>1</td>\n",
       "      <td>591336.25000</td>\n",
       "    </tr>\n",
       "    <tr>\n",
       "      <td>2</td>\n",
       "      <td>427270.53125</td>\n",
       "    </tr>\n",
       "    <tr>\n",
       "      <td>3</td>\n",
       "      <td>393938.71875</td>\n",
       "    </tr>\n",
       "    <tr>\n",
       "      <td>4</td>\n",
       "      <td>664087.62500</td>\n",
       "    </tr>\n",
       "  </tbody>\n",
       "</table>\n",
       "</div>"
      ],
      "text/plain": [
       "          price\n",
       "0  454116.96875\n",
       "1  591336.25000\n",
       "2  427270.53125\n",
       "3  393938.71875\n",
       "4  664087.62500"
      ]
     },
     "execution_count": 13,
     "metadata": {},
     "output_type": "execute_result"
    }
   ],
   "source": [
    "outcome[:5]"
   ]
  },
  {
   "cell_type": "code",
   "execution_count": 14,
   "metadata": {},
   "outputs": [],
   "source": [
    "pd = test_df\n",
    "pd.insert(len(test_df.columns),'price',outcome)"
   ]
  },
  {
   "cell_type": "code",
   "execution_count": 15,
   "metadata": {},
   "outputs": [],
   "source": [
    "cols_output = [\"id\",\"price\"]\n",
    "pd = pd[cols_output]"
   ]
  },
  {
   "cell_type": "code",
   "execution_count": 16,
   "metadata": {},
   "outputs": [],
   "source": [
    "pd.to_csv('108368069.csv',index = False , header = True)"
   ]
  },
  {
   "cell_type": "code",
   "execution_count": 17,
   "metadata": {},
   "outputs": [],
   "source": [
    "def show_train_history(train_history, train, validation):\n",
    "    plt.plot(train_history.history[train])\n",
    "    plt.plot(train_history.history[validation])\n",
    "    plt.title('Train History')\n",
    "    plt.ylabel(train)\n",
    "    plt.xlabel('Epoch')\n",
    "    plt.legend(['train','validation'], loc='upper left')\n",
    "    plt.show()"
   ]
  },
  {
   "cell_type": "code",
   "execution_count": 18,
   "metadata": {},
   "outputs": [
    {
     "data": {
      "image/png": "[encoded data removed]",
      "text/plain": [
       "<Figure size 432x288 with 1 Axes>"
      ]
     },
     "metadata": {
      "needs_background": "light"
     },
     "output_type": "display_data"
    }
   ],
   "source": [
    "show_train_history(train_history, 'accuracy', 'val_accuracy')"
   ]
  },
  {
   "cell_type": "code",
   "execution_count": 19,
   "metadata": {},
   "outputs": [
    {
     "data": {
      "image/png": "[encoded data removed]",
      "text/plain": [
       "<Figure size 432x288 with 1 Axes>"
      ]
     },
     "metadata": {
      "needs_background": "light"
     },
     "output_type": "display_data"
    }
   ],
   "source": [
    "show_train_history(train_history, 'loss', 'val_loss')"
   ]
  },
  {
   "cell_type": "code",
   "execution_count": null,
   "metadata": {},
   "outputs": [],
   "source": []
  }
 ],
 "metadata": {
  "kernelspec": {
   "display_name": "Python 3",
   "language": "python",
   "name": "python3"
  },
  "language_info": {
   "codemirror_mode": {
    "name": "ipython",
    "version": 3
   },
   "file_extension": ".py",
   "mimetype": "text/x-python",
   "name": "python",
   "nbconvert_exporter": "python",
   "pygments_lexer": "ipython3",
   "version": "3.7.4"
  }
 },
 "nbformat": 4,
 "nbformat_minor": 2
}
